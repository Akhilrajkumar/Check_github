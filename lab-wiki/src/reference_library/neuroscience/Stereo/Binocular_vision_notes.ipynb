{
 "cells": [
  {
   "cell_type": "markdown",
   "metadata": {},
   "source": [
    "# Binocular vision and stereopsis \n",
    "<br>\n",
    "Types of disparity is discussed in chapter 7\n",
    "<br>\n",
    "<br>\n",
    "@book{howard1995binocular,\n",
    "<br>  title={Binocular vision and stereopsis},\n",
    "<br>  author={Howard, Ian P and Rogers, Brian J},\n",
    "<br>  year={1995},\n",
    "<br> publisher={Oxford University Press, USA}\n",
    "}"
   ]
  }
 ],
 "metadata": {
  "anaconda-cloud": {},
  "kernelspec": {
   "display_name": "Python [default]",
   "language": "python",
   "name": "python3"
  },
  "language_info": {
   "codemirror_mode": {
    "name": "ipython",
    "version": 3
   },
   "file_extension": ".py",
   "mimetype": "text/x-python",
   "name": "python",
   "nbconvert_exporter": "python",
   "pygments_lexer": "ipython3",
   "version": "3.5.2"
  }
 },
 "nbformat": 4,
 "nbformat_minor": 1
}
