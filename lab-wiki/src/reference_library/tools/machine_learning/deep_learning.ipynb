{
 "cells": [
  {
   "cell_type": "markdown",
   "metadata": {},
   "source": [
    "## TensorFlow\n",
    "\n",
    "M. Abadi, A. Agarwal, P. Barham, E. Brevdo, Z. Chen, C. Citro, G. S. Corrado, A. Davis, J. Dean, M. Devin, S. Ghemawat, I. J. Goodfellow, A. Harp, G. Irving, M. Isard, Y. Jia, R. Józefowicz, L. Kaiser, M. Kudlur, J. Levenberg, D. Mané, R. Monga, S. Moore, D. Murray, C. Olah, M. Schuster, J. Shlens, B. Steiner, I. Sutskever, K. Talwar, P. Tucker, V. Vanhoucke, V. Vasudevan, F. Viegas, O. Vinyals, P. Warden, M. Wattenberg, M. Wicke, Y. Yu, and X. Zheng, “TensorFlow: Large-Scale Machine Learning on Heterogeneous Distributed Systems,” arXiv, vol. cs.DC, Mar. 2016.\n",
    "\n",
    "Notes: good introduction to basic framework of TF. For more, check TF documentation.\n",
    "\n",
    "In TF, you do the following the do the computation.\n",
    "\n",
    "1. define a graph.\n",
    "2. TF engine will analyze the graph and execute it in some way it considers optimal.\n",
    "\n",
    "While this sounds easy, in practice, there are a lot of caveats, such as dealing with loops, dealing with control nodes, etc. This explains why TF is very obscure, because a lot of details is hidden. That's why I like PyTorch, which makes debugging very very easy.\n",
    "\n",
    "~~~\n",
    "@article{Abadi:2016wn,\n",
    "author = {Abadi, Mart{\\'\\i}n and Agarwal, Ashish and Barham, Paul and Brevdo, Eugene and Chen, Zhifeng and Citro, Craig and Corrado, Greg S and Davis, Andy and Dean, Jeffrey and Devin, Matthieu and Ghemawat, Sanjay and Goodfellow, Ian J and Harp, Andrew and Irving, Geoffrey and Isard, Michael and Jia, Yangqing and J{\\'o}zefowicz, Rafal and Kaiser, Lukasz and Kudlur, Manjunath and Levenberg, Josh and Man{\\'e}, Dan and Monga, Rajat and Moore, Sherry and Murray, Derek and Olah, Chris and Schuster, Mike and Shlens, Jonathon and Steiner, Benoit and Sutskever, Ilya and Talwar, Kunal and Tucker, Paul and Vanhoucke, Vincent and Vasudevan, Vijay and Viegas, Fernanda and Vinyals, Oriol and Warden, Pete and Wattenberg, Martin and Wicke, Martin and Yu, Yuan and Zheng, Xiaoqiang},\n",
    "title = {{TensorFlow: Large-Scale Machine Learning on Heterogeneous Distributed Systems}},\n",
    "journal = {ArXiv e-prints},\n",
    "year = {2016},\n",
    "volume = {cs.DC},\n",
    "month = mar,\n",
    "file = {{arXiv 2016 Abadi.pdf:/Users/yimengzh/Documents/Papers3_revised/Library.papers3/Articles/2016/Abadi/arXiv 2016 Abadi.pdf:application/pdf}},\n",
    "uri = {\\url{papers3://publication/uuid/0CAAB4D8-1C5F-476A-A0A0-5D596576EED6}}\n",
    "}\n",
    "~~~"
   ]
  }
 ],
 "metadata": {
  "kernelspec": {
   "display_name": "Python 3",
   "language": "python",
   "name": "python3"
  },
  "language_info": {
   "codemirror_mode": {
    "name": "ipython",
    "version": 3
   },
   "file_extension": ".py",
   "mimetype": "text/x-python",
   "name": "python",
   "nbconvert_exporter": "python",
   "pygments_lexer": "ipython3",
   "version": "3.6.1"
  }
 },
 "nbformat": 4,
 "nbformat_minor": 2
}
