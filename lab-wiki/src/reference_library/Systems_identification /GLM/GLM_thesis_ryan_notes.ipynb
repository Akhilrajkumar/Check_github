{
 "cells": [
  {
   "cell_type": "markdown",
   "metadata": {},
   "source": [
    "# GLM_thesis_ryan:\n",
    "\n",
    "Ryan christopher kelly's thesis(PDF) work on GLM. \n",
    "<br>\n",
    "@phdthesis{<br>\n",
    "abstract = {A statistical technique, the generalized linear model (GLM), has recently begun to be used to model neural activity, due to both its flexibility and compu- tational tractability. In this context, the models we built had explicit terms for the stimulus effects, coupling effects from other cells recorded simultaneously, and more global network effects. We found that the network terms could in- deed explain many of the spikes, indicated that neuronal variability cannot be merely considered to be internal noise, but is widely shared across a popu- lation of cells. This approach shows how to incorporate the extra-stimulus data in identifying single cell firing properties, as well as taking a step toward reconciling our understanding of single cells with the computations being per- formed by the larger network.},\n",
    "<br>\n",
    "author = {Ryan Christopher Kelly},\n",
    "<br>\n",
    "keywords = {neurons, primary visual cortex, V1, GLM, local field potentials, LFP, spike trains, network states},\n",
    "<br>\n",
    "title = {{Statistical modeling of spiking activity in large scale neuronal networks}},\n",
    "<br>\n",
    "year = {2010},\n",
    "<br>}"
   ]
  }
 ],
 "metadata": {
  "anaconda-cloud": {},
  "kernelspec": {
   "display_name": "Python [conda env:tenso]",
   "language": "python",
   "name": "conda-env-tenso-py"
  },
  "language_info": {
   "codemirror_mode": {
    "name": "ipython",
    "version": 3
   },
   "file_extension": ".py",
   "mimetype": "text/x-python",
   "name": "python",
   "nbconvert_exporter": "python",
   "pygments_lexer": "ipython3",
   "version": "3.6.1"
  }
 },
 "nbformat": 4,
 "nbformat_minor": 1
}
