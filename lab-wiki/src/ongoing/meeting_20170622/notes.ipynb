{
 "cells": [
  {
   "cell_type": "markdown",
   "metadata": {},
   "source": [
    "Constrained Sampling Experiments Reveal Principles of Detection in Natural Scenes\n",
    "\n",
    "Stephen Sebastian, Jared Abrams, and Wilson S. Geisler\n",
    "\n",
    "check [here](./_data_constrained/Constrained.md)\n",
    "\n",
    "**this entry is not completed**.\n",
    "\n",
    "~~~\n",
    "@article{Sebastian:2017aa,\n",
    "\tAuthor = {Sebastian, Stephen and Abrams, Jared and Geisler, Wilson S.},\n",
    "\tDate-Added = {2017-06-23 01:05:28 +0000},\n",
    "\tDate-Modified = {2017-06-23 01:06:32 +0000},\n",
    "\tJournal = {PNAS},\n",
    "\tTitle = {Constrained Sampling Experiments Reveal Principles of Detection in Natural Scenes},\n",
    "\tYear = {2017}}\n",
    "\n",
    "~~~"
   ]
  }
 ],
 "metadata": {
  "kernelspec": {
   "display_name": "Python 3",
   "language": "python",
   "name": "python3"
  },
  "language_info": {
   "codemirror_mode": {
    "name": "ipython",
    "version": 3
   },
   "file_extension": ".py",
   "mimetype": "text/x-python",
   "name": "python",
   "nbconvert_exporter": "python",
   "pygments_lexer": "ipython3",
   "version": "3.6.1"
  }
 },
 "nbformat": 4,
 "nbformat_minor": 2
}
