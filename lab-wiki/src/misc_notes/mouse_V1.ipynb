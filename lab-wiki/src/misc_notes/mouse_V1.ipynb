{
 "cells": [
  {
   "cell_type": "markdown",
   "metadata": {},
   "source": [
    "# Population code in mouse V1 facilitates readout of natural scenes through increased sparseness"
   ]
  },
  {
   "cell_type": "markdown",
   "metadata": {},
   "source": [
    "Neural networks optimized for sparseness produces receptive fields similar to those in V1, L3-5. Single neurons in V1 respond selectively to image sequences in natural vision. Authors used 3D in-vivo two-photon microscope to record activity of neurons in a small section of visual cortex in awake mice who watched natural vs phase-scrambled movies. Movies had identical power spectra but different phase spectra. \n",
    "\n",
    "Higher order correlations in the visual stimulus changed structure of population activity in mice; firing patterns reorganized to facilitate decoding of individual movie scenes - sparse coding leads to improvement in accuracy. \n",
    "\n",
    "In general, dark image regions and motion strength increase population activity. Differences in population response caused by higher order correlations in visual stimulus. \n",
    "\n",
    "Authors tried to take elements of V1 model to reproduce the result. They started with linear-nonlinear Poisson neurons with linear stage of filters learned by sparse coding. This model not compatible with data under anesthesia, so authors used adaptive nonlinearity. \n",
    "\n",
    "Higher order correlations in natural movies changed structure of V1 firing patterns during anesthesia and wakefulness without changing overall activation level. This increased population sparseness of neuronal representation, which led to improved discriminability of movie scenes. However, processing depends on wake/anesthesized state. This study is consistent with previous ones that show neurons in V1 have high lifetime sparseness and reliability. Average activity is close between natural and phase-scrambled movies, but populations sparseness and discriminability are greater for natural movies. So nonlinearities can make higher order correlations explicit. However, this experiment does not provide direct proof for sparse coding, but does provide implications for its usage. "
   ]
  },
  {
   "cell_type": "markdown",
   "metadata": {
    "collapsed": true
   },
   "source": [
    "~~~\n",
    "@Article{Froudarakis_2014,\n",
    "  author    = {Emmanouil Froudarakis and Philipp Berens and Alexander S Ecker and R James Cotton and Fabian H Sinz and Dimitri Yatsenko and Peter Saggau and Matthias Bethge and Andreas S Tolias},\n",
    "  title     = {Population code in mouse V1 facilitates readout of natural scenes through increased sparseness},\n",
    "  journal   = {Nature Neuroscience},\n",
    "  year      = {2014},\n",
    "  volume    = {17},\n",
    "  number    = {6},\n",
    "  pages     = {851--857},\n",
    "  month     = {apr},\n",
    "  abstract  = {Neural codes are believed to have adapted to the statistical properties of the natural environment. However, the principles that govern the organization of ensemble activity in the visual cortex during natural visual input are unknown. We recorded populations of up to 500 neurons in the mouse primary visual cortex and characterized the structure of their activity, comparing responses to natural movies with those to control stimuli. We found that higher order correlations in natural scenes induced a sparser code, in which information is encoded by reliable activation of a smaller set of neurons and can be read out more easily. This computationally advantageous encoding for natural scenes was state-dependent and apparent only in anesthetized and active awake animals, but not during quiet wakefulness. Our results argue for a functional benefit of sparsification that could be a general principle governing the structure of the population activity throughout cortical microcircuits.},\n",
    "  doi       = {10.1038/nn.3707},\n",
    "  publisher = {Springer Nature},\n",
    "  url       = {http://www.nature.com/neuro/journal/v17/n6/full/nn.3707.html},\n",
    "}\n",
    "~~~"
   ]
  },
  {
   "cell_type": "code",
   "execution_count": 1,
   "metadata": {
    "collapsed": true
   },
   "outputs": [],
   "source": [
    "###"
   ]
  },
  {
   "cell_type": "markdown",
   "metadata": {},
   "source": [
    "# Area map of mouse visual cortex"
   ]
  },
  {
   "cell_type": "markdown",
   "metadata": {},
   "source": [
    "Authors wish to investigate whether mouse extrastraite cortex has simple organization where V1 is adjoined by single V2, or complex, where lateral V1 is adjoined by multiple distinct areas which share a vertical meridian with V1. They found that visual cortex is simple where lateral V1 connects to a single V2-like area, LM, but it's complex in that there's a string of areas in the lateral extrastriate cortex which receive direct V1 input. This is important because a complex organization suggests that primate extrastriate visual areas are homologues of ancestral areas in rodent visual cortex. \n",
    "\n",
    "Mammalian visual cortex can fit into two categories, striate (primary visual area, V1) and extrastriate cortex which surrounds V1. Classical view is that mouse V1 surrounded by 5 distinct areas, more recent view is that V1 is almost completely surrounded by V2L and V2ML. The authors have mapped the projections and visual receptive fields in extrastriate visual cortex of mice; they've shown that V1 is surrounded by at least 9 distinct areas, which have complete maps of the visual field. Authors obtained the maps from 20 dual-tracer and 15 triple-tracer injections. \n",
    "\n",
    "They also found that connectional maps represent functional visuotopic maps. In addition, the extrastriate areas have different receptive field sizes. The mouse extrastriate visual cortex contains at least 9 complete and orderly maps, where each of the maps have a unique topographic organization, size, shape, and location relative to fixed landmarks such as myeloarchitectonic borders and callosal connections. The principle result of triple-anterograde tracing of intracortical connections of V1 is that the retinotopic map of V1 gets remapped into 9 distinct extrastriate cortical fields. In general, the callosal connections do not generally represent the vertical meridian. The authors also found that V1 is connected to 15 visual, somatosensory, motor, and limbic areas. \n",
    "\n",
    "The organization of mouse extrastriate cortex is different from primates, where V1 is encircled completely by V2. Mouse extrastriate cortex is also different from nonprimate species, where V1 is adjoined on lateral side by a single area, V2. Most widely used maps of mouse visual cortex at the time showed that V1 is adjoined by 2 concentric areas, V2 and V3, but authors found that V1 is adjoined by 6 visuotopic areas."
   ]
  },
  {
   "cell_type": "markdown",
   "metadata": {
    "collapsed": true
   },
   "source": [
    "~~~\n",
    "@article {cne2007,\n",
    "author = {Wang, Quanxin and Burkhalter, Andreas},\n",
    "title = {Area map of mouse visual cortex},\n",
    "journal = {The Journal of Comparative Neurology},\n",
    "volume = {502},\n",
    "number = {3},\n",
    "publisher = {Wiley Subscription Services, Inc., A Wiley Company},\n",
    "issn = {1096-9861},\n",
    "url = {http://dx.doi.org/10.1002/cne.21286},\n",
    "doi = {10.1002/cne.21286},\n",
    "pages = {339--357},\n",
    "keywords = {extrastriate visual cortex, visuotopic organization, cortical connections, visual receptive fields},\n",
    "year = {2007},\n",
    "abstract = {It is controversial whether mouse extrastriate cortex has a “simple” organization in which lateral primary visual cortex (V1) is adjoined by a single area V2 or has a “complex” organization, in which lateral V1 is adjoined by multiple distinct areas, all of which share the vertical meridian with V1. Resolving this issue is important for understanding the evolution and development of cortical arealization. We have used triple pathway tracing combined with receptive field recordings to map azimuth and elevation in the same brain and have referenced these maps against callosal landmarks. We found that V1 projects to 15 cortical fields. At least nine of these contain maps with complete and orderly representations of the entire visual hemifield and therefore represent distinct areas. One of these, PM, adjoins V1 at the medial border. Five areas, P, LM, AL, RL, and A, adjoin V1 on the lateral border, but only LM shares the vertical meridian representation with V1. This suggests that LM is homologous to V2 and that the lateral extrastriate areas do not represent modules within a single area V2. Thus, mouse visual cortex is “simple” in the sense that lateral V1 is adjoined by a single V2-like area, LM, and “complex” in having a string of areas in lateral extrastriate cortex, which receive direct V1 input. The results suggest that large numbers of areas with topologically equivalent maps of the visual field emerge early in evolution and that homologous areas are inherited in different mammalian lineages.},\n",
    "annote = {Although this article it rather old, it provides a detailed map of the mouse primary visual cortex through microelectrode recording.}\n",
    "}\n",
    "~~~"
   ]
  },
  {
   "cell_type": "code",
   "execution_count": 2,
   "metadata": {
    "collapsed": true
   },
   "outputs": [],
   "source": [
    "###"
   ]
  },
  {
   "cell_type": "markdown",
   "metadata": {},
   "source": [
    "# Zooming in on Mouse Vision 2010"
   ]
  },
  {
   "cell_type": "markdown",
   "metadata": {},
   "source": [
    "Sensory systems are highly organized, such as the mammalian retina. They represent visual position with a mosaic tiling of retinal ganglion cells. However, V1 at a microscopic level combines inputs from different RGC (retinal ganglion cells) classes to create new features. Smith and H{\\\"a} determined that fine retinotopy is discarded in mouse V1, instead opting for new visual processing. \n",
    "\n",
    "The researchers found that instead of orderly adjacent cells in V1, the subregions of adjacent cells were scattered. In addition, there was little distance between cortical distance separating two neurons and the visual distance between their receptive fields, which confirms that typical retinotopy was not followed. However, some pairs of neurons that were separated at a large distance could still share common subregions, which meant that they used input from the same RGCs to create the receptive field. "
   ]
  },
  {
   "cell_type": "markdown",
   "metadata": {
    "collapsed": true
   },
   "source": [
    "~~~\n",
    "@Article{Sirotin_2010,\n",
    "  author    = {Yevgeniy B Sirotin and Aniruddha Das},\n",
    "  title     = {Zooming in on mouse vision},\n",
    "  journal   = {Nature Neuroscience},\n",
    "  year      = {2010},\n",
    "  volume    = {13},\n",
    "  number    = {9},\n",
    "  pages     = {1045--1046},\n",
    "  month     = {sep},\n",
    "  doi       = {10.1038/nn0910-1045},\n",
    "  publisher = {Springer Nature},\n",
    "  url       = {http://www.nature.com/neuro/journal/v13/n9/full/nn0910-1045.html},\n",
    "}\n",
    "~~~"
   ]
  },
  {
   "cell_type": "markdown",
   "metadata": {},
   "source": [
    "# Laminar circuit organization, Olivas 2012"
   ]
  },
  {
   "cell_type": "markdown",
   "metadata": {},
   "source": [
    "Authors used new mapping technique (laser scanning photostimulation with fast voltage-sensitive dye (VSD) imaging) to examine spatial organization and temporal dynamics of laminar (arranged in layers) circuit responses of mouse V1. They found that GABAergic inhibition was critical in restricting layer-specific excitatory activity spread and maintaining topographical projections. Also, blocking AMPAR removed interlaminar projections and NMDAR activity is important in controlling visual cortical circuit excitability and modulation activity propagation. \n",
    "\n",
    "Mouse V1 circuit is fairly similar to V1 laminar schemes for primates and cats. GABAergic inhibition important in controlling spatiotemporal propoagation of photostimulation-evoked VSD responses. AMPA receptors were important in mediating excitatory information flow in V1; NMDA receptors important for modulation on functional connections and spatiotemporal dynamics of local population activity, dependent on response times and laminar. Trajectories of VSD responses from multiple laminar locations were grouped by vertical columns and arranged by topography of stimulation sites. This maintains visual cortical topographical representations in radia columns."
   ]
  },
  {
   "cell_type": "markdown",
   "metadata": {
    "collapsed": true
   },
   "source": [
    "~~~\n",
    "@Article{10.3389/fncir.2012.00070,\n",
    "  author   = {Olivas, Nicholas and Quintanar-Zilinskas, Victor and Nenadic, Zoran and Xu, Xiangmin},\n",
    "  title    = {Laminar circuit organization and response modulation in mouse visual cortex},\n",
    "  journal  = {Frontiers in Neural Circuits},\n",
    "  year     = {2012},\n",
    "  volume   = {6},\n",
    "  pages    = {70},\n",
    "  issn     = {1662-5110},\n",
    "  abstract = {The mouse has become an increasingly important animal model for visual system studies, but few studies have investigated local functional circuit organization of mouse visual cortex.  Here we used our newly developed mapping technique combining laser scanning photostimulation (LSPS) with fast voltage-sensitive dye (VSD) imaging to examine the spatial organization and temporal dynamics of laminar circuit responses in living slice preparations of mouse primary visual cortex (V1).  During experiments, LSPS using caged glutamate provided spatially restricted neuronal activation in a specific cortical layer, and evoked responses from the stimulated layer to its functionally connected regions were detected by VSD imaging.  In this study, we first provided a detailed analysis of spatiotemporal activation patterns at specific V1 laminar locations and measured local circuit connectivity.  Then we examined the role of cortical inhibition in the propagation of evoked cortical responses by comparing circuit activity patterns in control and in the presence of GABAa receptor antagonists.  We found that GABAergic inhibition was critical in restricting layer-specific excitatory activity spread and maintaining topographical projections.  In addition, we investigated how AMPA and NMDA receptors influenced cortical responses and found that blocking AMPA receptors abolished interlaminar functional projections, and the NMDA receptor activity was important in controlling visual cortical circuit excitability and modulating activity propagation.  The NMDA receptor antagonist reduced neuronal population activity in time-dependent and laminar-specific manners.  Finally, we used the quantitative information derived from the mapping experiments and presented computational modeling analysis of V1 circuit organization.  Taken together, the present study has provided important new information about mouse V1 circuit organization and response modulation.},\n",
    "  doi      = {10.3389/fncir.2012.00070},\n",
    "  url      = {http://journal.frontiersin.org/article/10.3389/fncir.2012.00070},\n",
    "}\n",
    "~~~"
   ]
  },
  {
   "cell_type": "code",
   "execution_count": 3,
   "metadata": {
    "collapsed": true
   },
   "outputs": [],
   "source": [
    "###"
   ]
  },
  {
   "cell_type": "markdown",
   "metadata": {},
   "source": [
    "# Mouse Visual Neocortex Supports Multiple Stereotyped Patterns of Microcircuit Activity"
   ]
  },
  {
   "cell_type": "markdown",
   "metadata": {},
   "source": [
    "Authors used two-photon calcium fluorescence imaging to observe hundreds of neurons on slices of mouse V1. They observed that V1 dynamics had linear scaling between firing rate and circuit size. In addition, they found that the circuit had cyclic elements, which indicate recurrent wiring and acyclic elements, which indicate feedforward. \n",
    "\n",
    "Current literature (at that time) suggests that V1 has retinotopic mapping, but the orientation tuning is not necessarily in anatomical columns. This is different than primates, whose V1 use columnar processing. \n",
    "\n",
    "The authors imaged the neuron spiking activity of large unbiased and densely sampled neuronal populations in V1. They found spontaneous, emergent circuit activity that engaged the vast majority of the imaged neurons through different discrete circuit activations. Most neuronal recruitment patterns involved a single peak that decayed. Authors found a linear, correlative relationship between number of spikes observed and duration of imaged events, in addition to the numbers of cells active and number of spikes in circuit.\n",
    "\n",
    "Authors generated functional microcircuit miring diagrams, whose weighted directed connected represented probability of lagging spike. In V1, functional graphs were sparse, which inconsistent distribution of edges. Analysis of graph also indicates feedforward activity of neurons. In addition, majority of V1 neurons exhibit stereotyped and temporally precise activity that was specific to active circuit. This suggests that V1 is divided into discrete functional circuits that shared neurons. Data suggests that the underlying connectivity of V1 gives rise to feedforward excitation and lateral inhibition. "
   ]
  },
  {
   "cell_type": "markdown",
   "metadata": {
    "collapsed": true
   },
   "source": [
    "~~~\n",
    "@Article{Sadovsky7769,\n",
    "  author    = {Sadovsky, Alexander J. and MacLean, Jason N.},\n",
    "  title     = {Mouse Visual Neocortex Supports Multiple Stereotyped Patterns of Microcircuit Activity},\n",
    "  journal   = {Journal of Neuroscience},\n",
    "  year      = {2014},\n",
    "  volume    = {34},\n",
    "  number    = {23},\n",
    "  pages     = {7769--7777},\n",
    "  issn      = {0270-6474},\n",
    "  abstract  = {Spiking correlations between neocortical neurons provide insight into the underlying synaptic connectivity that defines cortical microcircuitry. Here, using two-photon calcium fluorescence imaging, we observed the simultaneous dynamics of hundreds of neurons in slices of mouse primary visual cortex (V1). Consistent with a balance of excitation and inhibition, V1 dynamics were characterized by a linear scaling between firing rate and circuit size. Using lagged firing correlations between neurons, we generated functional wiring diagrams to evaluate the topological features of V1 microcircuitry. We found that circuit connectivity exhibited both cyclic graph motifs, indicating recurrent wiring, and acyclic graph motifs, indicating feedforward wiring. After overlaying the functional wiring diagrams onto the imaged field of view, we found properties consistent with Rentian scaling: wiring diagrams were topologically efficient because they minimized wiring with a modular architecture. Within single imaged fields of view, V1 contained multiple discrete circuits that were overlapping and highly interdigitated but were still distinct from one another. The majority of neurons that were shared between circuits displayed peri-event spiking activity whose timing was specific to the active circuit, whereas spike times for a smaller percentage of neurons were invariant to circuit identity. These data provide evidence that V1 microcircuitry exhibits balanced dynamics, is efficiently arranged in anatomical space, and is capable of supporting a diversity of multineuron spike firing patterns from overlapping sets of neurons.},\n",
    "  doi       = {10.1523/JNEUROSCI.0169-14.2014},\n",
    "  eprint    = {http://www.jneurosci.org/content/34/23/7769.full.pdf},\n",
    "  publisher = {Society for Neuroscience},\n",
    "  url       = {http://www.jneurosci.org/content/34/23/7769},\n",
    "}\n",
    "~~~"
   ]
  },
  {
   "cell_type": "code",
   "execution_count": 4,
   "metadata": {
    "collapsed": true
   },
   "outputs": [],
   "source": [
    "###"
   ]
  },
  {
   "cell_type": "markdown",
   "metadata": {},
   "source": [
    "# A cortical circuit for gain control by behavioral state 2014"
   ]
  },
  {
   "cell_type": "markdown",
   "metadata": {},
   "source": [
    "The response of mouse V1 is enhanced by locomotion. Authors used in vivo calcium imaging to reveal that locomotion activates vasoactive intestinal peptide (VIP)-positive neurons in mouse V1 that's independent of visual stimulation and mostly through nicotinic inputs from basal forebrain. Sensory responses in neocortex are mostly modulated by behavioral states such as sleep and wakefulness. Locomotion was found to increase gain of excitatory neurons in V1 without altering spontaneous activity orientation selectivity. At the time of study, the neural circuit that relayed information from behavioral state to sensory cortex was unknown. However, changes in the between balance of excitatory and inhibitory conductances have been linked to change of brain state and awake cortical responses have been tied to powerful inhibition.\n",
    "\n",
    "Authors used in vivo imaging technology to characterize the responses of different types of inhibitory neurons in awake mouse V1. Authors found that neural activity of VIP neurons in mouse V1 is related to locomotion even without visual stimulation. In addition, visual stimulation did not increase activation of VIP neurons with locomotion. VIP neurons were majority of neurons responsive to locomotion in absence of visual stimulation in mouse V1. In addition, VIP neurons are key mediators of enhancement of visual responses by locomotion. "
   ]
  },
  {
   "cell_type": "markdown",
   "metadata": {
    "collapsed": true
   },
   "source": [
    "~~~\n",
    "@Article{Fu_2014,\n",
    "  author    = {Yu Fu and Jason~M. Tucciarone and J.~Sebastian Espinosa and Nengyin Sheng and Daniel~P. Darcy and Roger~A. Nicoll and Z.~Josh Huang and Michael~P. Stryker},\n",
    "  title     = {A Cortical Circuit for Gain Control by Behavioral State},\n",
    "  journal   = {Cell},\n",
    "  year      = {2014},\n",
    "  volume    = {156},\n",
    "  number    = {6},\n",
    "  pages     = {1139--1152},\n",
    "  month     = {mar},\n",
    "  doi       = {10.1016/j.cell.2014.01.050},\n",
    "  publisher = {Elsevier {BV}},\n",
    "  url       = {https://www.ncbi.nlm.nih.gov/pmc/articles/PMC4041382/},\n",
    "}\n",
    "~~~"
   ]
  },
  {
   "cell_type": "code",
   "execution_count": 5,
   "metadata": {
    "collapsed": true
   },
   "outputs": [],
   "source": [
    "###"
   ]
  },
  {
   "cell_type": "markdown",
   "metadata": {},
   "source": [
    "# Distinct Balance of Excitation and Inhibition in an Interareal Feedforward and Feedback Circuit of Mouse Visual Coretx 2013"
   ]
  },
  {
   "cell_type": "markdown",
   "metadata": {},
   "source": [
    "Mouse visual cortex is divided into distinct organized areas that are connected through feedforward (FF) and feedback (FB) pathways. The main targets of FF and FB axons that connected V1 with higher lateromedial extrastriate areas are pyramidal cells and parvalbumin cells. Authors found that L2/3 pyramidal cells receive excitatory monosynaptic FF and FB inputs, and inhibition is stronger in FF than FB pathway. \n",
    "\n",
    "Rodents have multiple functionally specialized areas in their visual cortex. Receptive field size is larger in extrastriate areas than in V1, which means that neurons in higher areas integrate inputs across larger parts of the visual field. Authors propose that rodent visual cortex is processing hierarchy where FF connections carry information from lower to higher areas and FB connections return top-down influences to lower areas. Those FF and FB connections synapse into pyramidal and parvalbumin interneurons. \n",
    "\n",
    "As additional work, authors characterized the action potentials of the interneurons being connected to and mapped some FF and FB inputs to the pyramidal and PV interneurons in L2/3. Pyramidal cells had broad APs and had regular spiking. Pv neurons had narrow APs and deep afterhyperpolarizations. "
   ]
  },
  {
   "cell_type": "markdown",
   "metadata": {
    "collapsed": true
   },
   "source": [
    "~~~\n",
    "@article {Yang17373,\n",
    "    author = {Yang, Weiguo and Carrasquillo, Yarimar and Hooks, Bryan M. and Nerbonne, Jeanne M. and Burkhalter, Andreas},\n",
    "    title = {Distinct Balance of Excitation and Inhibition in an Interareal Feedforward and Feedback Circuit of Mouse Visual Cortex},\n",
    "    volume = {33},\n",
    "    number = {44},\n",
    "    pages = {17373--17384},\n",
    "    year = {2013},\n",
    "    doi = {10.1523/JNEUROSCI.2515-13.2013},\n",
    "    publisher = {Society for Neuroscience},\n",
    "    abstract = {Mouse visual cortex is subdivided into multiple distinct, hierarchically organized areas that are interconnected through feedforward (FF) and feedback (FB) pathways. The principal synaptic targets of FF and FB axons that reciprocally interconnect primary visual cortex (V1) with the higher lateromedial extrastriate area (LM) are pyramidal cells (Pyr) and parvalbumin (PV)-expressing GABAergic interneurons. Recordings in slices of mouse visual cortex have shown that layer 2/3 Pyr cells receive excitatory monosynaptic FF and FB inputs, which are opposed by disynaptic inhibition. Most notably, inhibition is stronger in the FF than FB pathway, suggesting pathway-specific organization of feedforward inhibition (FFI). To explore the hypothesis that this difference is due to diverse pathway-specific strengths of the inputs to PV neurons we have performed subcellular Channelrhodopsin-2-assisted circuit mapping in slices of mouse visual cortex. Whole-cell patch-clamp recordings were obtained from retrobead-labeled FFV1{\\textrightarrow}LM- and FBLM{\\textrightarrow}V1-projecting Pyr cells, as well as from tdTomato-expressing PV neurons. The results show that the FFV1{\\textrightarrow}LM pathway provides on average 3.7-fold stronger depolarizing input to layer 2/3 inhibitory PV neurons than to neighboring excitatory Pyr cells. In the FBLM{\\textrightarrow}V1 pathway, depolarizing inputs to layer 2/3 PV neurons and Pyr cells were balanced. Balanced inputs were also found in the FFV1{\\textrightarrow}LM pathway to layer 5 PV neurons and Pyr cells, whereas FBLM{\\textrightarrow}V1 inputs to layer 5 were biased toward Pyr cells. The findings indicate that FFI in FFV1{\\textrightarrow}LM and FBLM{\\textrightarrow}V1 circuits are organized in a pathway- and lamina-specific fashion.},\n",
    "    issn = {0270-6474},\n",
    "    URL = {http://www.jneurosci.org/content/33/44/17373},\n",
    "    eprint = {http://www.jneurosci.org/content/33/44/17373.full.pdf},\n",
    "    journal = {Journal of Neuroscience}\n",
    "}\n",
    "~~~"
   ]
  },
  {
   "cell_type": "code",
   "execution_count": 6,
   "metadata": {
    "collapsed": true
   },
   "outputs": [],
   "source": [
    "###"
   ]
  },
  {
   "cell_type": "markdown",
   "metadata": {},
   "source": [
    "# Experience-dependent spatial expectations in mouse visual cortex 2016"
   ]
  },
  {
   "cell_type": "markdown",
   "metadata": {},
   "source": [
    "Currently, little is known about how internal models influence sensory processing. In this study, the authors show that the activity of neurons in L2/3 of mouse V1 becomes increasingly informative of spatial location. In addition, a subset of V1 neurons exhibited responses that were predictive of upcoming visual stimulus in spatially dependent manner. Visual cortex forms an internal representation of the visual scene based on spatial location and compares this representation with feed-forward visual input.\n",
    "\n",
    "There has been evidence for internal representation of environment in brain from the discovery of spatial maps in hippocampus and entorhinal cortex. There is indirect evidence for an influence of internal representation on visual processing. The authors speculate that if a direct influence of spatial maps on visual processing develops with experience, it could manifest as a prediction of visual stimulus based on spatial location. Authors recorded activity of same 1,630 neurons in V1 L2/3 using two-photon imaging of the calcium indicator GCaMP6f. \n",
    "\n",
    "Increase in stimulus selectivity can influence the discriminability of stimuli in the environment. With experience, neurons in V1 that were grating-selective became more selective with time, but that effect cannot be explained by their mean activity. The stability of those selective neurons also increased with experience. V1 neurons developed predictive response to approaching visual stimuli with experience. "
   ]
  },
  {
   "cell_type": "markdown",
   "metadata": {
    "collapsed": true
   },
   "source": [
    "~~~\n",
    "@article{Fiser2016,\n",
    "  doi = {10.1038/nn.4385},\n",
    "  url = {https://doi.org/10.1038/nn.4385},\n",
    "  year  = {2016},\n",
    "  month = {sep},\n",
    "  publisher = {Springer Nature},\n",
    "  volume = {19},\n",
    "  number = {12},\n",
    "  pages = {1658--1664},\n",
    "  author = {Aris Fiser and David Mahringer and Hassana K Oyibo and Anders V Petersen and Marcus Leinweber and Georg B Keller},\n",
    "  title = {Experience-dependent spatial expectations in mouse visual cortex},\n",
    "  journal = {Nature Neuroscience}\n",
    "}\n",
    "~~~"
   ]
  },
  {
   "cell_type": "code",
   "execution_count": 7,
   "metadata": {
    "collapsed": true
   },
   "outputs": [],
   "source": [
    "###"
   ]
  },
  {
   "cell_type": "markdown",
   "metadata": {},
   "source": [
    "# Primary visual cortex shows laminar-specific and balanced circuit organization of excitatory and inhibitory synaptic connectivity 2017"
   ]
  },
  {
   "cell_type": "markdown",
   "metadata": {},
   "source": [
    "Authors used functional mapping assays to get an assessment of excitatory and inhibitory synaptic laminar connections to excitatory neurons in L2/3-6 of V1. Excitatory and inhibitory synaptix connectivity is spatially balanced across excitatory neuronal networks in V1.\n",
    "\n",
    "Authors found that synaptic input sources of excitatory neurons span the radial columns of laminar microsircuits and excitatory neurons in different V1 laminae exhibit distinct patterns of layer-specific organization of excitatory inputs. Excitatory and inhibitory synaptic connectivity is probably spatially balanced across excitatory neuronal networks. \n",
    "\n",
    "Cortical information processing is regulated by diverse types of inhibitory neurons and largely determined by local excitatory and inhibitory circuit interactions. Knowledge of intracortical synaptic connections to principal excitatory neurons in V1 is incomplete. Authors used LSPS with whole cell recordings to characterized local circuit connectivity of excitatory neurons in L2/3-6 of V1. \n",
    "\n",
    "Excitatory neurons in different V1 laminae have different patterns of laminar-specific organization of excitatory input. L2/3 pyramidal neurons receive strongest excitatory input from L4/5a and weaker excitatory inputs fro L2/3/5b and minimal input from L6. L5 pyramidal cells have most extensive input from radial columns of laminar circuits. L6 pyramidal cells receive weak inputs from deep cortical layers.\n",
    "\n",
    "In terms of inhibitory inputs in V1, they match the distribution of excitatory, and the spatial distribution balanced even though excitatory neurons far outnumber inhibitory neurons.\n",
    "\n",
    "Authors constructed a layer-by-layer wiring diagram of comparative strength of excitatory and inhibitory inputs. Cortical organization provides a common computation platform with shared features between different cortical areas. "
   ]
  },
  {
   "cell_type": "markdown",
   "metadata": {
    "collapsed": true
   },
   "source": [
    "~~~\n",
    "@Article{TJP:TJP7098,\n",
    "  author  = {Xu, Xiangmin and Olivas, Nicholas D. and Ikrar, Taruna and Peng, Tao and Holmes, Todd C. and Nie, Qing and Shi, Yulin},\n",
    "  title   = {Primary visual cortex shows laminar-specific and balanced circuit organization of excitatory and inhibitory synaptic connectivity},\n",
    "  journal = {The Journal of Physiology},\n",
    "  year    = {2016},\n",
    "  volume  = {594},\n",
    "  number  = {7},\n",
    "  pages   = {1891--1910},\n",
    "  issn    = {1469-7793},\n",
    "  doi     = {10.1113/JP271891},\n",
    "  url     = {http://dx.doi.org/10.1113/JP271891},\n",
    "}\n",
    "~~~"
   ]
  },
  {
   "cell_type": "code",
   "execution_count": 8,
   "metadata": {
    "collapsed": true
   },
   "outputs": [],
   "source": [
    "###"
   ]
  },
  {
   "cell_type": "markdown",
   "metadata": {},
   "source": [
    "# A dedicated circuit links direction-selective retinal ganglion cells to the primary visual cortex 2013"
   ]
  },
  {
   "cell_type": "markdown",
   "metadata": {},
   "source": [
    "Direction-selective ganglion cells (DSGCs) are specialized for detecting motion along specific axes of the visual field. In mice, several types of DSGCs connect to the dorsal lateral geniculate nucleus, the visual thalamic structure that habours cortical relay neurons. Authors show that there is a di-synaptic circuit linking DSGCs with superficial layers of V1. The circuit pools information from several types of DSGC, converges on a specialized subdivision of dorsal lateral geniculate nucleus, and gives direction/orientation-tuned signals to V1. This implies that the mouse has several functionally specialized parllel retino-geniulo-cortical pathways. In addition, direction/orientation-tuned V1 neurons may inherit their characteristic receptive field properties from DSGCs. Author's results suggest that orientation and direction selectivity of neurons in deeper V1 comes from the convergence of retical and thalamic afferents with center-surround receptive fields, and not direction or orientation-tuned receptive fields."
   ]
  },
  {
   "cell_type": "markdown",
   "metadata": {
    "collapsed": true
   },
   "source": [
    "~~~\n",
    "@Article{Cruz_Mart_n_2014,\n",
    "  author    = {Alberto Cruz-Mart{\\'{\\i}}n and Rana N. El-Danaf and Fumitaka Osakada and Balaji Sriram and Onkar S. Dhande and Phong L. Nguyen and Edward M. Callaway and Anirvan Ghosh and Andrew D. Huberman},\n",
    "  title     = {A dedicated circuit links direction-selective retinal ganglion cells to the primary visual cortex},\n",
    "  journal   = {Nature},\n",
    "  year      = {2014},\n",
    "  volume    = {507},\n",
    "  number    = {7492},\n",
    "  pages     = {358--361},\n",
    "  month     = {feb},\n",
    "  doi       = {10.1038/nature12989},\n",
    "  publisher = {Springer Nature},\n",
    "}\n",
    "~~~"
   ]
  },
  {
   "cell_type": "code",
   "execution_count": 9,
   "metadata": {
    "collapsed": true
   },
   "outputs": [],
   "source": [
    "###"
   ]
  },
  {
   "cell_type": "markdown",
   "metadata": {},
   "source": [
    "# Brain-derived Neurotrophic Factor Overexpression Induces Precocious Critical Period in Mouse Visual Cortex 1999"
   ]
  },
  {
   "cell_type": "markdown",
   "metadata": {},
   "source": [
    "Brain-derived neurotrophic factor (BDNF) could possibly regulate activity-dependeent synaptic plasticity in the developing visual cortex. Authors studied the physiological role of BDNF in a transgenic mouse with elevated levels of BDNF in V1. Several in vitro experiments have suggested that BDNFs contribute to neuronal plasticity, the ehancement of synaptic transmission, and the induction and maintenance of LTP. In addition, BDNF has effects on excitatory and inhibitory circuits in cortical neurons. Previous experiments have already establised the roles of neurotrophins in rodent visual cortex plasticity. \n",
    "\n",
    "In the experiment, authors found that as in wild-type rodents, neocortical levesl of BDNF in BDNF-overexpressing transgenic mice increased during postnatal development. However, BDNF mRNA expression in transgenic mice was accelerated and by 5 weeks, BDNF mRNA levels in transgenic mouse neocortex were 3 times normal. The authors also performed monocular deprivation on the mice to measure eye plasticity.\n",
    "\n",
    "In transgenic and wild-type mouse, neurons responded to orieted bars of moving light in visual field. This is to make sure the neurons in all mice were working properly. Authors then measured ocular dominance plasticity and found that overexpression of BDNF in transgenic mouse V1 did not prevent ocular dominance plasticity. It level was normal, but occured earlier in those mice. Thus, the critical period for transgenic mice ended before P27 (a date), but the ocular dominance distribution of wild-type mice still could change after P27.\n",
    "\n",
    "This study was important for implicating roles of BDNF in activity and inhibition regulation in cortical neurons and its relation to synaptic plasticity. "
   ]
  },
  {
   "cell_type": "markdown",
   "metadata": {
    "collapsed": true
   },
   "source": [
    "~~~\n",
    "@article {HanoverRC40,\n",
    "\tauthor = {Hanover, Jessica L. and Huang, Z. Josh and Tonegawa, Susumu and Stryker, Michael P.},\n",
    "\ttitle = {Brain-Derived Neurotrophic Factor Overexpression Induces Precocious Critical Period in Mouse Visual Cortex},\n",
    "\tvolume = {19},\n",
    "\tnumber = {22},\n",
    "\tpages = {RC40--RC40},\n",
    "\tyear = {1999},\n",
    "\tpublisher = {Society for Neuroscience},\n",
    "\tissn = {0270-6474},\n",
    "\tURL = {http://www.jneurosci.org/content/19/22/RC40},\n",
    "\teprint = {http://www.jneurosci.org/content/19/22/RC40.full.pdf},\n",
    "\tjournal = {Journal of Neuroscience}\n",
    "}\n",
    "~~~"
   ]
  },
  {
   "cell_type": "code",
   "execution_count": 10,
   "metadata": {
    "collapsed": true
   },
   "outputs": [],
   "source": [
    "###"
   ]
  }
 ],
 "metadata": {
  "kernelspec": {
   "display_name": "Python 3",
   "language": "python",
   "name": "python3"
  },
  "language_info": {
   "codemirror_mode": {
    "name": "ipython",
    "version": 3
   },
   "file_extension": ".py",
   "mimetype": "text/x-python",
   "name": "python",
   "nbconvert_exporter": "python",
   "pygments_lexer": "ipython3",
   "version": "3.6.1"
  }
 },
 "nbformat": 4,
 "nbformat_minor": 1
}
